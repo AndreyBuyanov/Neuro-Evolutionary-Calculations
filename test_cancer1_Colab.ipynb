{
  "nbformat": 4,
  "nbformat_minor": 0,
  "metadata": {
    "kernelspec": {
      "display_name": "Python 3",
      "language": "python",
      "name": "python3"
    },
    "language_info": {
      "codemirror_mode": {
        "name": "ipython",
        "version": 2
      },
      "file_extension": ".py",
      "mimetype": "text/x-python",
      "name": "python",
      "nbconvert_exporter": "python",
      "pygments_lexer": "ipython2",
      "version": "2.7.6"
    },
    "colab": {
      "name": "Copy of test_cancer1.ipynb",
      "provenance": [],
      "include_colab_link": true
    }
  },
  "cells": [
    {
      "cell_type": "markdown",
      "metadata": {
        "id": "view-in-github",
        "colab_type": "text"
      },
      "source": [
        "<a href=\"https://colab.research.google.com/github/AndreyBuyanov/Neuro-Evolutionary-Calculations/blob/main/test_cancer1_Colab.ipynb\" target=\"_parent\"><img src=\"https://colab.research.google.com/assets/colab-badge.svg\" alt=\"Open In Colab\"/></a>"
      ]
    },
    {
      "cell_type": "code",
      "metadata": {
        "id": "lCg5hBbeN8ws",
        "colab": {
          "base_uri": "https://localhost:8080/"
        },
        "outputId": "4f7732d1-fe8a-4632-911a-91ce74ceb491"
      },
      "source": [
        "!git clone https://github.com/AndreyBuyanov/Neuro-Evolutionary-Calculations.git"
      ],
      "execution_count": 20,
      "outputs": [
        {
          "output_type": "stream",
          "text": [
            "Cloning into 'Neuro-Evolutionary-Calculations'...\n",
            "remote: Enumerating objects: 245, done.\u001b[K\n",
            "remote: Counting objects: 100% (245/245), done.\u001b[K\n",
            "remote: Compressing objects: 100% (130/130), done.\u001b[K\n",
            "remote: Total 245 (delta 144), reused 207 (delta 109), pack-reused 0\u001b[K\n",
            "Receiving objects: 100% (245/245), 1.57 MiB | 14.74 MiB/s, done.\n",
            "Resolving deltas: 100% (144/144), done.\n"
          ],
          "name": "stdout"
        }
      ]
    },
    {
      "cell_type": "code",
      "metadata": {
        "id": "1W0ZfwDFOdnL",
        "colab": {
          "base_uri": "https://localhost:8080/"
        },
        "outputId": "7594e193-3e7a-4f9f-bb19-75180147119e"
      },
      "source": [
        "%cd Neuro-Evolutionary-Calculations"
      ],
      "execution_count": 21,
      "outputs": [
        {
          "output_type": "stream",
          "text": [
            "/content/Neuro-Evolutionary-Calculations/Neuro-Evolutionary-Calculations\n"
          ],
          "name": "stdout"
        }
      ]
    },
    {
      "cell_type": "code",
      "metadata": {
        "colab": {
          "base_uri": "https://localhost:8080/"
        },
        "id": "1F3jK322PxyW",
        "outputId": "d475e60f-4030-4e1a-d690-bb28cfdc875c"
      },
      "source": [
        "!ls -la"
      ],
      "execution_count": 22,
      "outputs": [
        {
          "output_type": "stream",
          "text": [
            "total 388\n",
            "drwxr-xr-x 4 root root  4096 Jun  1 11:04 .\n",
            "drwxr-xr-x 5 root root  4096 Jun  1 11:04 ..\n",
            "drwxr-xr-x 8 root root  4096 Jun  1 11:04 .git\n",
            "-rw-r--r-- 1 root root     7 Jun  1 11:04 .gitignore\n",
            "-rw-r--r-- 1 root root  1081 Jun  1 11:04 LICENSE\n",
            "-rw-r--r-- 1 root root   115 Jun  1 11:04 README.md\n",
            "-rw-r--r-- 1 root root    35 Jun  1 11:04 requirements.txt\n",
            "drwxr-xr-x 3 root root  4096 Jun  1 11:04 sane\n",
            "-rw-r--r-- 1 root root 96508 Jun  1 11:04 test_cancer1_Colab.ipynb\n",
            "-rw-r--r-- 1 root root 92789 Jun  1 11:04 test_cancer1.ipynb\n",
            "-rw-r--r-- 1 root root 31577 Jun  1 11:04 test_cancer1_tf.ipynb\n",
            "-rw-r--r-- 1 root root 88876 Jun  1 11:04 test_glass1.ipynb\n",
            "-rw-r--r-- 1 root root 48599 Jun  1 11:04 test_mushroom.ipynb\n"
          ],
          "name": "stdout"
        }
      ]
    },
    {
      "cell_type": "code",
      "metadata": {
        "collapsed": true,
        "id": "HavfM0UFNmVk"
      },
      "source": [
        "from sane import SANEAlgorithm\n",
        "from sane import Cancer1Dataset\n",
        "import random\n",
        "import matplotlib.pyplot as plt\n",
        "import time"
      ],
      "execution_count": 23,
      "outputs": []
    },
    {
      "cell_type": "code",
      "metadata": {
        "pycharm": {
          "name": "#%%\n"
        },
        "id": "KYY8Lnn2NmVm"
      },
      "source": [
        "random.seed(1)"
      ],
      "execution_count": 24,
      "outputs": []
    },
    {
      "cell_type": "markdown",
      "metadata": {
        "collapsed": false,
        "pycharm": {
          "name": "#%% md\n"
        },
        "id": "ngVwtiu6NmVm"
      },
      "source": [
        "Объявляем параметры алгоритма (количество комбинаций, количество нейронов, размер скрытого слоя, количество соединений на нейрон)"
      ]
    },
    {
      "cell_type": "code",
      "metadata": {
        "pycharm": {
          "name": "#%%\n"
        },
        "id": "d1yZgMCzNmVm"
      },
      "source": [
        "algorithm_params = [\n",
        "    (10, 500, 10, 11), # полносвязная сеть для датасета cancer1 (9 входов, 2 выхода)\n",
        "    #(50, 1000, 9, 8),\n",
        "    #(500, 2000, 20, 8), # большие популяции, расчёт займёт около часа\n",
        "]"
      ],
      "execution_count": 25,
      "outputs": []
    },
    {
      "cell_type": "markdown",
      "metadata": {
        "collapsed": false,
        "pycharm": {
          "name": "#%% md\n"
        },
        "id": "n9FR3m2VNmVn"
      },
      "source": [
        "Создаём несколько алгоритмов\n"
      ]
    },
    {
      "cell_type": "code",
      "metadata": {
        "pycharm": {
          "name": "#%%\n"
        },
        "id": "cmpBfqs8NmVn"
      },
      "source": [
        "algorithms = []\n",
        "for params in algorithm_params:\n",
        "    algorithms.append(SANEAlgorithm(\n",
        "        blueprints_population_size=params[0],\n",
        "        neuron_population_size=params[1],\n",
        "        hidden_layer_size=params[2],\n",
        "        connections_count=params[3]))"
      ],
      "execution_count": 26,
      "outputs": []
    },
    {
      "cell_type": "markdown",
      "metadata": {
        "collapsed": false,
        "pycharm": {
          "name": "#%% md\n"
        },
        "id": "u6Gvr55tNmVn"
      },
      "source": [
        "Инициализируем алгоритмы"
      ]
    },
    {
      "cell_type": "code",
      "metadata": {
        "pycharm": {
          "name": "#%%\n"
        },
        "id": "nBznvld6NmVn"
      },
      "source": [
        "for algorithm in algorithms:\n",
        "    algorithm.init(\n",
        "        min_value=-1.0,\n",
        "        max_value=1.0)"
      ],
      "execution_count": 27,
      "outputs": []
    },
    {
      "cell_type": "markdown",
      "metadata": {
        "collapsed": false,
        "pycharm": {
          "name": "#%% md\n"
        },
        "id": "bF__rtD1NmVo"
      },
      "source": [
        "Заргужаем тестовые данные"
      ]
    },
    {
      "cell_type": "code",
      "metadata": {
        "pycharm": {
          "name": "#%%\n"
        },
        "id": "F-M1rC17NmVo"
      },
      "source": [
        "cancer1_dataset = Cancer1Dataset()\n",
        "x_train, y_train = cancer1_dataset.get_train_data()"
      ],
      "execution_count": 28,
      "outputs": []
    },
    {
      "cell_type": "markdown",
      "metadata": {
        "collapsed": false,
        "pycharm": {
          "name": "#%% md\n"
        },
        "id": "BgwFWQlVNmVo"
      },
      "source": [
        "Запускаем алгоритмы"
      ]
    },
    {
      "cell_type": "code",
      "metadata": {
        "pycharm": {
          "name": "#%%\n"
        },
        "id": "io2T3WB2NmVo",
        "colab": {
          "base_uri": "https://localhost:8080/"
        },
        "outputId": "8b8610e5-80e3-48c9-b942-a0e5fb68cb7d"
      },
      "source": [
        "results = []\n",
        "for algorithm in algorithms:\n",
        "    start_time = time.time()\n",
        "    result = algorithm.train(\n",
        "        generations_count=2000,\n",
        "        x_train=x_train,\n",
        "        y_train=y_train)\n",
        "    results.append(result)\n",
        "    print(\"%s seconds\" % (time.time() - start_time))"
      ],
      "execution_count": 29,
      "outputs": [
        {
          "output_type": "stream",
          "text": [
            "\u001b[K1999/2000 best fitness = 0.17736467914367268, current fitness = 0.1997802892231336\n",
            "\n",
            "204.4616823196411 seconds\n"
          ],
          "name": "stdout"
        }
      ]
    },
    {
      "cell_type": "markdown",
      "metadata": {
        "collapsed": false,
        "pycharm": {
          "name": "#%% md\n"
        },
        "id": "UregEwk3NmVp"
      },
      "source": [
        "Выводим изменение среднеквадратичной ошибки (приспособленности) лучшей нейронной сети в процессе эволюции"
      ]
    },
    {
      "cell_type": "code",
      "metadata": {
        "pycharm": {
          "name": "#%%\n"
        },
        "id": "GNk2YgJCNmVp",
        "colab": {
          "base_uri": "https://localhost:8080/",
          "height": 265
        },
        "outputId": "df610607-f7fa-480a-9462-bb43039f8cf9"
      },
      "source": [
        "legend = []\n",
        "for i in range(len(results)):\n",
        "    plt.plot(results[i])\n",
        "    legend.append(\"Params \" + str(i+1) + \" MSE\")\n",
        "plt.legend(legend)\n",
        "plt.show()"
      ],
      "execution_count": 30,
      "outputs": [
        {
          "output_type": "display_data",
          "data": {
            "image/png": "[encoded data removed]",
            "text/plain": [
              "<Figure size 432x288 with 1 Axes>"
            ]
          },
          "metadata": {
            "tags": [],
            "needs_background": "light"
          }
        }
      ]
    },
    {
      "cell_type": "markdown",
      "metadata": {
        "collapsed": false,
        "pycharm": {
          "name": "#%% md\n"
        },
        "id": "cD-iNerxNmVq"
      },
      "source": [
        "Загружаем тестовые данные"
      ]
    },
    {
      "cell_type": "code",
      "metadata": {
        "pycharm": {
          "name": "#%%\n"
        },
        "id": "FpgIkKhONmVq"
      },
      "source": [
        "x_test, y_test = cancer1_dataset.get_test_data()"
      ],
      "execution_count": 31,
      "outputs": []
    },
    {
      "cell_type": "markdown",
      "metadata": {
        "collapsed": false,
        "pycharm": {
          "name": "#%% md\n"
        },
        "id": "_-U3t3U9NmVq"
      },
      "source": [
        "Пропускаем тестовые данные через лучшие нейросети"
      ]
    },
    {
      "cell_type": "code",
      "metadata": {
        "pycharm": {
          "name": "#%%\n"
        },
        "id": "a9I-6_eyNmVq"
      },
      "source": [
        "results = []\n",
        "for algorithm in algorithms:\n",
        "    result = algorithm.test(\n",
        "        x_test=x_test,\n",
        "        y_test=y_test)\n",
        "    results.append(result)"
      ],
      "execution_count": 32,
      "outputs": []
    },
    {
      "cell_type": "markdown",
      "metadata": {
        "collapsed": false,
        "pycharm": {
          "name": "#%% md\n"
        },
        "id": "iY2pO3AXNmVq"
      },
      "source": [
        "Выводим среднеквадратичную ошибку для каждой тестовой выборки"
      ]
    },
    {
      "cell_type": "code",
      "metadata": {
        "pycharm": {
          "name": "#%%\n"
        },
        "id": "gXnWe8u4NmVq",
        "colab": {
          "base_uri": "https://localhost:8080/",
          "height": 265
        },
        "outputId": "b29f24a1-96fd-4a13-b047-5a102c82994a"
      },
      "source": [
        "legend = []\n",
        "for i in range(len(results)):\n",
        "    plt.plot(results[i])\n",
        "    legend.append(\"Params \" + str(i+1) + \" MSE\")\n",
        "plt.legend(legend)\n",
        "plt.show()"
      ],
      "execution_count": 33,
      "outputs": [
        {
          "output_type": "display_data",
          "data": {
            "image/png": "[encoded data removed]",
            "text/plain": [
              "<Figure size 432x288 with 1 Axes>"
            ]
          },
          "metadata": {
            "tags": [],
            "needs_background": "light"
          }
        }
      ]
    },
    {
      "cell_type": "code",
      "metadata": {
        "pycharm": {
          "name": "#%%\n"
        },
        "id": "ie2z6CUuNmVr"
      },
      "source": [
        ""
      ],
      "execution_count": null,
      "outputs": []
    }
  ]
}